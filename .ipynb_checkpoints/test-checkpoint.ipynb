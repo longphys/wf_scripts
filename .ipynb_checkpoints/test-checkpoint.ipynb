{
 "cells": [
  {
   "cell_type": "code",
   "execution_count": 1,
   "id": "199fa736-6557-4a02-8aea-dfc6557fe972",
   "metadata": {},
   "outputs": [],
   "source": [
    "void test_1()\n",
    "{ \n",
    "      auto timer = new TStopwatch();\n",
    "  timer->Start();\n",
    "  std::cout << \"\\ntime:  seconds\\n\";\n",
    "}\n"
   ]
  },
  {
   "cell_type": "code",
   "execution_count": null,
   "id": "1b1cc141-e14a-436f-bd28-a7ea4abef5ab",
   "metadata": {},
   "outputs": [],
   "source": []
  },
  {
   "cell_type": "code",
   "execution_count": null,
   "id": "1fee5827-ad43-445a-9d16-d8214fa52929",
   "metadata": {},
   "outputs": [],
   "source": []
  }
 ],
 "metadata": {
  "kernelspec": {
   "display_name": "ROOT C++",
   "language": "c++",
   "name": "root"
  },
  "language_info": {
   "codemirror_mode": "text/x-c++src",
   "file_extension": ".C",
   "mimetype": " text/x-c++src",
   "name": "c++"
  }
 },
 "nbformat": 4,
 "nbformat_minor": 5
}
